{
  "cells": [
    {
      "cell_type": "markdown",
      "metadata": {
        "id": "-zQfLlpIVruq"
      },
      "source": [
        "## **🛒 Market Basket Analysis**"
      ]
    },
    {
      "cell_type": "markdown",
      "metadata": {
        "id": "3_HbBITvkDzF"
      },
      "source": [
        "> **📌 Pay attention**\n",
        ">\n",
        "> This task contains a part, that wasn't learned.\\\n",
        "You will need to research yourself how to make pivot tables using Pandas."
      ]
    },
    {
      "cell_type": "markdown",
      "metadata": {
        "id": "TQvx_CShX7nv"
      },
      "source": [
        "### **1️⃣ Introduction**"
      ]
    },
    {
      "cell_type": "markdown",
      "metadata": {
        "id": "0aeQwWCmVxEu"
      },
      "source": [
        "**Objective**: Identify products that are frequently bought together.\n",
        "\n",
        "**Application**:\n",
        "- **Retail**: Determine product bundling strategies. For example, if bread and butter have a high positive correlation, stores can place these items near each other or offer bundle deals.\n",
        "- **E-commerce**: Enhance recommendation systems by suggesting items that are often purchased together."
      ]
    },
    {
      "cell_type": "markdown",
      "metadata": {
        "id": "GVNtLsmTX0Wv"
      },
      "source": [
        "### **2️⃣ Calculations**"
      ]
    },
    {
      "cell_type": "markdown",
      "metadata": {
        "id": "6cvrFXop-xd3"
      },
      "source": [
        "Import Pandas, Matplotlib and Seaborn:"
      ]
    },
    {
      "cell_type": "code",
      "execution_count": 1,
      "metadata": {
        "id": "RVIahYmT-yFr"
      },
      "outputs": [],
      "source": [
        "# YOUR CODE\n",
        "import pandas as pd\n",
        "import matplotlib.pyplot as plt\n",
        "import seaborn as sns"
      ]
    },
    {
      "cell_type": "markdown",
      "metadata": {
        "id": "4k5LsnVMWD-L"
      },
      "source": [
        "Load the data about transactions by the following link:\\\n",
        "https://raw.githubusercontent.com/sca-programming-school/datasets/main/transactions.csv"
      ]
    },
    {
      "cell_type": "code",
      "execution_count": 2,
      "metadata": {
        "id": "E8pNbCXwSssW"
      },
      "outputs": [],
      "source": [
        "# YOUR CODE\n",
        "df = pd.read_csv('https://raw.githubusercontent.com/sca-programming-school/datasets/main/transactions.csv')"
      ]
    },
    {
      "cell_type": "markdown",
      "metadata": {
        "id": "0_xnu3xMWbcM"
      },
      "source": [
        "Let's take a look at the given data. Output the first 5 rows:"
      ]
    },
    {
      "cell_type": "code",
      "execution_count": 3,
      "metadata": {
        "id": "Kdb4oAgDWeuL"
      },
      "outputs": [
        {
          "data": {
            "text/html": [
              "<div>\n",
              "<style scoped>\n",
              "    .dataframe tbody tr th:only-of-type {\n",
              "        vertical-align: middle;\n",
              "    }\n",
              "\n",
              "    .dataframe tbody tr th {\n",
              "        vertical-align: top;\n",
              "    }\n",
              "\n",
              "    .dataframe thead th {\n",
              "        text-align: right;\n",
              "    }\n",
              "</style>\n",
              "<table border=\"1\" class=\"dataframe\">\n",
              "  <thead>\n",
              "    <tr style=\"text-align: right;\">\n",
              "      <th></th>\n",
              "      <th>TransactionID</th>\n",
              "      <th>Product</th>\n",
              "      <th>Amount</th>\n",
              "    </tr>\n",
              "  </thead>\n",
              "  <tbody>\n",
              "    <tr>\n",
              "      <th>0</th>\n",
              "      <td>1</td>\n",
              "      <td>Apple</td>\n",
              "      <td>2</td>\n",
              "    </tr>\n",
              "    <tr>\n",
              "      <th>1</th>\n",
              "      <td>1</td>\n",
              "      <td>Eggs</td>\n",
              "      <td>1</td>\n",
              "    </tr>\n",
              "    <tr>\n",
              "      <th>2</th>\n",
              "      <td>1</td>\n",
              "      <td>Milk</td>\n",
              "      <td>2</td>\n",
              "    </tr>\n",
              "    <tr>\n",
              "      <th>3</th>\n",
              "      <td>2</td>\n",
              "      <td>Jam</td>\n",
              "      <td>8</td>\n",
              "    </tr>\n",
              "    <tr>\n",
              "      <th>4</th>\n",
              "      <td>2</td>\n",
              "      <td>Bread</td>\n",
              "      <td>3</td>\n",
              "    </tr>\n",
              "  </tbody>\n",
              "</table>\n",
              "</div>"
            ],
            "text/plain": [
              "   TransactionID Product  Amount\n",
              "0              1   Apple       2\n",
              "1              1    Eggs       1\n",
              "2              1    Milk       2\n",
              "3              2     Jam       8\n",
              "4              2   Bread       3"
            ]
          },
          "execution_count": 3,
          "metadata": {},
          "output_type": "execute_result"
        }
      ],
      "source": [
        "# YOUR CODE\n",
        "df.head()"
      ]
    },
    {
      "cell_type": "markdown",
      "metadata": {
        "id": "vXjACsj_Wmb2"
      },
      "source": [
        "We neeed to make a pivot table that has:\n",
        "* transactions as rows\n",
        "* products as columns\n",
        "* amount as values"
      ]
    },
    {
      "cell_type": "markdown",
      "metadata": {
        "id": "X-rdBCPS-6zR"
      },
      "source": [
        "Research how to do thisyour own. We did not learn this, but it's not too complex, especially when you have an experience of working with pivot tables."
      ]
    },
    {
      "cell_type": "code",
      "execution_count": 4,
      "metadata": {
        "id": "V-60EWx3W7fN"
      },
      "outputs": [
        {
          "data": {
            "text/html": [
              "<div>\n",
              "<style scoped>\n",
              "    .dataframe tbody tr th:only-of-type {\n",
              "        vertical-align: middle;\n",
              "    }\n",
              "\n",
              "    .dataframe tbody tr th {\n",
              "        vertical-align: top;\n",
              "    }\n",
              "\n",
              "    .dataframe thead th {\n",
              "        text-align: right;\n",
              "    }\n",
              "</style>\n",
              "<table border=\"1\" class=\"dataframe\">\n",
              "  <thead>\n",
              "    <tr style=\"text-align: right;\">\n",
              "      <th>Product</th>\n",
              "      <th>Apple</th>\n",
              "      <th>Banana</th>\n",
              "      <th>Bread</th>\n",
              "      <th>Butter</th>\n",
              "      <th>Cheese</th>\n",
              "      <th>Eggs</th>\n",
              "      <th>Jam</th>\n",
              "      <th>Milk</th>\n",
              "    </tr>\n",
              "    <tr>\n",
              "      <th>TransactionID</th>\n",
              "      <th></th>\n",
              "      <th></th>\n",
              "      <th></th>\n",
              "      <th></th>\n",
              "      <th></th>\n",
              "      <th></th>\n",
              "      <th></th>\n",
              "      <th></th>\n",
              "    </tr>\n",
              "  </thead>\n",
              "  <tbody>\n",
              "    <tr>\n",
              "      <th>1</th>\n",
              "      <td>2</td>\n",
              "      <td>0</td>\n",
              "      <td>0</td>\n",
              "      <td>0</td>\n",
              "      <td>0</td>\n",
              "      <td>1</td>\n",
              "      <td>0</td>\n",
              "      <td>2</td>\n",
              "    </tr>\n",
              "    <tr>\n",
              "      <th>2</th>\n",
              "      <td>0</td>\n",
              "      <td>4</td>\n",
              "      <td>3</td>\n",
              "      <td>3</td>\n",
              "      <td>6</td>\n",
              "      <td>8</td>\n",
              "      <td>8</td>\n",
              "      <td>0</td>\n",
              "    </tr>\n",
              "    <tr>\n",
              "      <th>3</th>\n",
              "      <td>0</td>\n",
              "      <td>3</td>\n",
              "      <td>0</td>\n",
              "      <td>0</td>\n",
              "      <td>9</td>\n",
              "      <td>0</td>\n",
              "      <td>1</td>\n",
              "      <td>0</td>\n",
              "    </tr>\n",
              "    <tr>\n",
              "      <th>4</th>\n",
              "      <td>2</td>\n",
              "      <td>0</td>\n",
              "      <td>8</td>\n",
              "      <td>6</td>\n",
              "      <td>0</td>\n",
              "      <td>7</td>\n",
              "      <td>0</td>\n",
              "      <td>9</td>\n",
              "    </tr>\n",
              "    <tr>\n",
              "      <th>5</th>\n",
              "      <td>5</td>\n",
              "      <td>0</td>\n",
              "      <td>0</td>\n",
              "      <td>0</td>\n",
              "      <td>0</td>\n",
              "      <td>2</td>\n",
              "      <td>0</td>\n",
              "      <td>2</td>\n",
              "    </tr>\n",
              "  </tbody>\n",
              "</table>\n",
              "</div>"
            ],
            "text/plain": [
              "Product        Apple  Banana  Bread  Butter  Cheese  Eggs  Jam  Milk\n",
              "TransactionID                                                       \n",
              "1                  2       0      0       0       0     1    0     2\n",
              "2                  0       4      3       3       6     8    8     0\n",
              "3                  0       3      0       0       9     0    1     0\n",
              "4                  2       0      8       6       0     7    0     9\n",
              "5                  5       0      0       0       0     2    0     2"
            ]
          },
          "execution_count": 4,
          "metadata": {},
          "output_type": "execute_result"
        }
      ],
      "source": [
        "# YOUR CODE\n",
        "pivot_table = df.pivot_table(index='TransactionID', columns='Product', values='Amount', aggfunc='sum', fill_value=0)\n",
        "\n",
        "pivot_table.head()\n",
        "\n",
        "\n",
        "\n",
        "\n",
        "\n",
        "\n"
      ]
    },
    {
      "cell_type": "markdown",
      "metadata": {
        "id": "tY1BvvsHXFxU"
      },
      "source": [
        "Great! Now, let's take a look at the pivot table we have. Output the first 5 rows:"
      ]
    },
    {
      "cell_type": "code",
      "execution_count": 5,
      "metadata": {
        "id": "wzV7B_o3XDFw"
      },
      "outputs": [
        {
          "data": {
            "text/html": [
              "<div>\n",
              "<style scoped>\n",
              "    .dataframe tbody tr th:only-of-type {\n",
              "        vertical-align: middle;\n",
              "    }\n",
              "\n",
              "    .dataframe tbody tr th {\n",
              "        vertical-align: top;\n",
              "    }\n",
              "\n",
              "    .dataframe thead th {\n",
              "        text-align: right;\n",
              "    }\n",
              "</style>\n",
              "<table border=\"1\" class=\"dataframe\">\n",
              "  <thead>\n",
              "    <tr style=\"text-align: right;\">\n",
              "      <th>Product</th>\n",
              "      <th>Apple</th>\n",
              "      <th>Banana</th>\n",
              "      <th>Bread</th>\n",
              "      <th>Butter</th>\n",
              "      <th>Cheese</th>\n",
              "      <th>Eggs</th>\n",
              "      <th>Jam</th>\n",
              "      <th>Milk</th>\n",
              "    </tr>\n",
              "    <tr>\n",
              "      <th>TransactionID</th>\n",
              "      <th></th>\n",
              "      <th></th>\n",
              "      <th></th>\n",
              "      <th></th>\n",
              "      <th></th>\n",
              "      <th></th>\n",
              "      <th></th>\n",
              "      <th></th>\n",
              "    </tr>\n",
              "  </thead>\n",
              "  <tbody>\n",
              "    <tr>\n",
              "      <th>1</th>\n",
              "      <td>2</td>\n",
              "      <td>0</td>\n",
              "      <td>0</td>\n",
              "      <td>0</td>\n",
              "      <td>0</td>\n",
              "      <td>1</td>\n",
              "      <td>0</td>\n",
              "      <td>2</td>\n",
              "    </tr>\n",
              "    <tr>\n",
              "      <th>2</th>\n",
              "      <td>0</td>\n",
              "      <td>4</td>\n",
              "      <td>3</td>\n",
              "      <td>3</td>\n",
              "      <td>6</td>\n",
              "      <td>8</td>\n",
              "      <td>8</td>\n",
              "      <td>0</td>\n",
              "    </tr>\n",
              "    <tr>\n",
              "      <th>3</th>\n",
              "      <td>0</td>\n",
              "      <td>3</td>\n",
              "      <td>0</td>\n",
              "      <td>0</td>\n",
              "      <td>9</td>\n",
              "      <td>0</td>\n",
              "      <td>1</td>\n",
              "      <td>0</td>\n",
              "    </tr>\n",
              "    <tr>\n",
              "      <th>4</th>\n",
              "      <td>2</td>\n",
              "      <td>0</td>\n",
              "      <td>8</td>\n",
              "      <td>6</td>\n",
              "      <td>0</td>\n",
              "      <td>7</td>\n",
              "      <td>0</td>\n",
              "      <td>9</td>\n",
              "    </tr>\n",
              "    <tr>\n",
              "      <th>5</th>\n",
              "      <td>5</td>\n",
              "      <td>0</td>\n",
              "      <td>0</td>\n",
              "      <td>0</td>\n",
              "      <td>0</td>\n",
              "      <td>2</td>\n",
              "      <td>0</td>\n",
              "      <td>2</td>\n",
              "    </tr>\n",
              "  </tbody>\n",
              "</table>\n",
              "</div>"
            ],
            "text/plain": [
              "Product        Apple  Banana  Bread  Butter  Cheese  Eggs  Jam  Milk\n",
              "TransactionID                                                       \n",
              "1                  2       0      0       0       0     1    0     2\n",
              "2                  0       4      3       3       6     8    8     0\n",
              "3                  0       3      0       0       9     0    1     0\n",
              "4                  2       0      8       6       0     7    0     9\n",
              "5                  5       0      0       0       0     2    0     2"
            ]
          },
          "execution_count": 5,
          "metadata": {},
          "output_type": "execute_result"
        }
      ],
      "source": [
        "# YOUR CODE\n",
        "pivot_table.head()\n",
        "\n",
        "\n",
        "\n",
        "\n",
        "\n",
        "\n",
        "\n",
        "\n",
        "\n"
      ]
    },
    {
      "cell_type": "markdown",
      "metadata": {
        "id": "Fpji8-x4XQqF"
      },
      "source": [
        "Now, we can calculate a correlation matrix based on the pivot table:"
      ]
    },
    {
      "cell_type": "code",
      "execution_count": 6,
      "metadata": {
        "id": "J9U-z-XpXWVL"
      },
      "outputs": [],
      "source": [
        "# YOUR CODE\n",
        "num_cols = pivot_table.select_dtypes(include=['number']).columns.tolist()\n",
        "corr_matrix = pivot_table[num_cols].corr()\n",
        "\n",
        "\n",
        "\n",
        "\n",
        "\n",
        "\n",
        "\n",
        "\n"
      ]
    },
    {
      "cell_type": "markdown",
      "metadata": {
        "id": "scHTq5IRXY4U"
      },
      "source": [
        "Let's output the retrieved correlation matrix"
      ]
    },
    {
      "cell_type": "code",
      "execution_count": 7,
      "metadata": {
        "id": "F483-KeWXeGm"
      },
      "outputs": [
        {
          "data": {
            "text/html": [
              "<div>\n",
              "<style scoped>\n",
              "    .dataframe tbody tr th:only-of-type {\n",
              "        vertical-align: middle;\n",
              "    }\n",
              "\n",
              "    .dataframe tbody tr th {\n",
              "        vertical-align: top;\n",
              "    }\n",
              "\n",
              "    .dataframe thead th {\n",
              "        text-align: right;\n",
              "    }\n",
              "</style>\n",
              "<table border=\"1\" class=\"dataframe\">\n",
              "  <thead>\n",
              "    <tr style=\"text-align: right;\">\n",
              "      <th>Product</th>\n",
              "      <th>Apple</th>\n",
              "      <th>Banana</th>\n",
              "      <th>Bread</th>\n",
              "      <th>Butter</th>\n",
              "      <th>Cheese</th>\n",
              "      <th>Eggs</th>\n",
              "      <th>Jam</th>\n",
              "      <th>Milk</th>\n",
              "    </tr>\n",
              "    <tr>\n",
              "      <th>Product</th>\n",
              "      <th></th>\n",
              "      <th></th>\n",
              "      <th></th>\n",
              "      <th></th>\n",
              "      <th></th>\n",
              "      <th></th>\n",
              "      <th></th>\n",
              "      <th></th>\n",
              "    </tr>\n",
              "  </thead>\n",
              "  <tbody>\n",
              "    <tr>\n",
              "      <th>Apple</th>\n",
              "      <td>1.000000</td>\n",
              "      <td>-0.270863</td>\n",
              "      <td>-0.050558</td>\n",
              "      <td>-0.047400</td>\n",
              "      <td>-0.029943</td>\n",
              "      <td>-0.007451</td>\n",
              "      <td>-0.028081</td>\n",
              "      <td>0.036713</td>\n",
              "    </tr>\n",
              "    <tr>\n",
              "      <th>Banana</th>\n",
              "      <td>-0.270863</td>\n",
              "      <td>1.000000</td>\n",
              "      <td>-0.040822</td>\n",
              "      <td>-0.047243</td>\n",
              "      <td>-0.023062</td>\n",
              "      <td>-0.017452</td>\n",
              "      <td>-0.063236</td>\n",
              "      <td>-0.000559</td>\n",
              "    </tr>\n",
              "    <tr>\n",
              "      <th>Bread</th>\n",
              "      <td>-0.050558</td>\n",
              "      <td>-0.040822</td>\n",
              "      <td>1.000000</td>\n",
              "      <td>0.656211</td>\n",
              "      <td>-0.009217</td>\n",
              "      <td>-0.048683</td>\n",
              "      <td>-0.002416</td>\n",
              "      <td>-0.013944</td>\n",
              "    </tr>\n",
              "    <tr>\n",
              "      <th>Butter</th>\n",
              "      <td>-0.047400</td>\n",
              "      <td>-0.047243</td>\n",
              "      <td>0.656211</td>\n",
              "      <td>1.000000</td>\n",
              "      <td>-0.044217</td>\n",
              "      <td>-0.048993</td>\n",
              "      <td>-0.013155</td>\n",
              "      <td>-0.031868</td>\n",
              "    </tr>\n",
              "    <tr>\n",
              "      <th>Cheese</th>\n",
              "      <td>-0.029943</td>\n",
              "      <td>-0.023062</td>\n",
              "      <td>-0.009217</td>\n",
              "      <td>-0.044217</td>\n",
              "      <td>1.000000</td>\n",
              "      <td>-0.089055</td>\n",
              "      <td>0.626177</td>\n",
              "      <td>-0.442407</td>\n",
              "    </tr>\n",
              "    <tr>\n",
              "      <th>Eggs</th>\n",
              "      <td>-0.007451</td>\n",
              "      <td>-0.017452</td>\n",
              "      <td>-0.048683</td>\n",
              "      <td>-0.048993</td>\n",
              "      <td>-0.089055</td>\n",
              "      <td>1.000000</td>\n",
              "      <td>-0.002853</td>\n",
              "      <td>0.385496</td>\n",
              "    </tr>\n",
              "    <tr>\n",
              "      <th>Jam</th>\n",
              "      <td>-0.028081</td>\n",
              "      <td>-0.063236</td>\n",
              "      <td>-0.002416</td>\n",
              "      <td>-0.013155</td>\n",
              "      <td>0.626177</td>\n",
              "      <td>-0.002853</td>\n",
              "      <td>1.000000</td>\n",
              "      <td>-0.436251</td>\n",
              "    </tr>\n",
              "    <tr>\n",
              "      <th>Milk</th>\n",
              "      <td>0.036713</td>\n",
              "      <td>-0.000559</td>\n",
              "      <td>-0.013944</td>\n",
              "      <td>-0.031868</td>\n",
              "      <td>-0.442407</td>\n",
              "      <td>0.385496</td>\n",
              "      <td>-0.436251</td>\n",
              "      <td>1.000000</td>\n",
              "    </tr>\n",
              "  </tbody>\n",
              "</table>\n",
              "</div>"
            ],
            "text/plain": [
              "Product     Apple    Banana     Bread    Butter    Cheese      Eggs       Jam  \\\n",
              "Product                                                                         \n",
              "Apple    1.000000 -0.270863 -0.050558 -0.047400 -0.029943 -0.007451 -0.028081   \n",
              "Banana  -0.270863  1.000000 -0.040822 -0.047243 -0.023062 -0.017452 -0.063236   \n",
              "Bread   -0.050558 -0.040822  1.000000  0.656211 -0.009217 -0.048683 -0.002416   \n",
              "Butter  -0.047400 -0.047243  0.656211  1.000000 -0.044217 -0.048993 -0.013155   \n",
              "Cheese  -0.029943 -0.023062 -0.009217 -0.044217  1.000000 -0.089055  0.626177   \n",
              "Eggs    -0.007451 -0.017452 -0.048683 -0.048993 -0.089055  1.000000 -0.002853   \n",
              "Jam     -0.028081 -0.063236 -0.002416 -0.013155  0.626177 -0.002853  1.000000   \n",
              "Milk     0.036713 -0.000559 -0.013944 -0.031868 -0.442407  0.385496 -0.436251   \n",
              "\n",
              "Product      Milk  \n",
              "Product            \n",
              "Apple    0.036713  \n",
              "Banana  -0.000559  \n",
              "Bread   -0.013944  \n",
              "Butter  -0.031868  \n",
              "Cheese  -0.442407  \n",
              "Eggs     0.385496  \n",
              "Jam     -0.436251  \n",
              "Milk     1.000000  "
            ]
          },
          "execution_count": 7,
          "metadata": {},
          "output_type": "execute_result"
        }
      ],
      "source": [
        "# YOUR CODE\n",
        "corr_matrix \n",
        "\n",
        "\n",
        "\n",
        "\n",
        "\n",
        "\n",
        "\n",
        "\n"
      ]
    },
    {
      "cell_type": "markdown",
      "metadata": {
        "id": "7gZrp4x6Xm7P"
      },
      "source": [
        "Finally, let's visualise this correlation matrix using Seaborn heatmap.\n",
        "\n",
        "Set the title **\"Product Correlation Matrix\"** to the chart."
      ]
    },
    {
      "cell_type": "code",
      "execution_count": 8,
      "metadata": {
        "id": "Ntg61ktvXiwY"
      },
      "outputs": [
        {
          "data": {
            "image/png": "[encoded data removed]",
            "text/plain": [
              "<Figure size 800x600 with 2 Axes>"
            ]
          },
          "metadata": {},
          "output_type": "display_data"
        }
      ],
      "source": [
        "\n",
        "# YOUR CODE\n",
        "plt.figure(figsize=(8, 6))\n",
        "sns.heatmap(corr_matrix, annot=True, cmap='coolwarm', fmt=\".2f\", square=True, linewidths=0.5)\n",
        "plt.title(\"Product Correlation Heatmap\")\n",
        "plt.tight_layout()\n",
        "plt.show()\n",
        "\n",
        "\n",
        "\n",
        "\n",
        "\n",
        "\n"
      ]
    },
    {
      "cell_type": "markdown",
      "metadata": {
        "id": "_Jfo5xkzYCbu"
      },
      "source": [
        "### **3️⃣ Insights & Conclusions**"
      ]
    },
    {
      "cell_type": "markdown",
      "metadata": {
        "id": "NIm_1JR3YFMs"
      },
      "source": [
        "Write any conclusions and insight you have noticed."
      ]
    },
    {
      "cell_type": "markdown",
      "metadata": {},
      "source": [
        "## **Insights and Conclusions**\n",
        "\n",
        "### **Strong Positive Correlations**\n",
        "- **Bread and Butter**: Strong positive correlations indicate that these items are often purchased together\n",
        "- **Cheese and Jam**: Strong positive correlations indicate that customers often purchase these items together\n",
        "- These strong correlations indicate **natural product bundling** that retailers should take advantage of.\n",
        "\n",
        "### **Negative Correlations**\n",
        "- **Cheese and Milk**: Negative correlations indicate that customers tend to choose one dairy product over another in a single purchase\n",
        "- **Jam and Milk**: Similar pattern\n",
        "- These negative correlations highlight a **product substitution pattern** rather than a complementary relationship.\n",
        "\n",
        "### **Weak/No Correlations**\n",
        "- Most product pairs have weak or no correlations, indicating **independent purchasing behavior**\n",
        "- Indicating a diverse shopping need among customers.\n",
        "- Unrelated products can be strategically placed throughout the store to encourage additional Purchases\n",
        "\n",
        "### **Business Applications**\n",
        "\n",
        "#### **Product Placement Strategy**\n",
        "\n",
        "- Place closely related items (Bread & Butter, Cheese & Jam) close together\n",
        "\n",
        "- Create separate areas for complementary products\n",
        "- Use end displays to showcase product bundles\n",
        "\n",
        "#### **Cross-Promotion Opportunities**\n",
        "- Develop positively correlated product bundles\n",
        "- Create “meal solution” bundles that combine Bread, Butter and other breakfast products\n",
        "- Design advertising campaigns that highlight natural product pairings\n",
        "\n",
        "#### **Inventory Management**\n",
        "- Stock complementary products in similar quantities\n",
        "- Coordinate purchasing cycles for correlated items\n",
        "- Use correlation models to forecast demand for related products relationship\n",
        "\n",
        "#### **Recommendation System**\n",
        "- Implement “customers who bought X also bought Y” recommendations\n",
        "- Focus recommendations on product pairs that are highly correlated\n",
        "- Avoid recommending items that are negatively correlated\n",
        "\n",
        "### **Strategy Recommendations**\n",
        "\n",
        "1. **Bundle Pricing**: Discount on Bread + Butter and Cheese + Jam bundles\n",
        "2. **Store Layout**: Place complementary products within easy reach of each other\n",
        "3. **Marketing Campaign**: Develop themed promotions around natural product combinations\n",
        "4. **Customer Segmentation**: Identify customer groups based on shopping patterns\n",
        "5. **Supply Chain Optimization**: Adjust inventory levels based on correlation models"
      ]
    }
  ],
  "metadata": {
    "colab": {
      "provenance": [],
      "toc_visible": true
    },
    "kernelspec": {
      "display_name": "Python 3",
      "name": "python3"
    },
    "language_info": {
      "codemirror_mode": {
        "name": "ipython",
        "version": 3
      },
      "file_extension": ".py",
      "mimetype": "text/x-python",
      "name": "python",
      "nbconvert_exporter": "python",
      "pygments_lexer": "ipython3",
      "version": "3.12.10"
    }
  },
  "nbformat": 4,
  "nbformat_minor": 0
}
